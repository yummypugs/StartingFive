{
 "cells": [
  {
   "cell_type": "markdown",
   "source": [
    "# Binary Search Tree\n",
    "\n",
    "### By Starting Five: Alexander, Carlo, Kirtesh, Namir, Pei-Hsun\n",
    "\n",
    "Your group assignment is to implement a Binary Search Tree using object oriented programming. Following class outline is the minimum implementation.\n",
    "\n",
    "```\n",
    "class Node:\n",
    "\n",
    "    def __init__(self, key, data):\n",
    "        ...\n",
    "\n",
    "    def insert(self, key, data):\n",
    "        ...\n",
    "\n",
    "    def get(self, key):\n",
    "        ...\n",
    "\n",
    "tree = Node('Vahe', 40)\n",
    "tree.insert('Thomas', 41)\n",
    "\n",
    "print(tree.get('Vahe'))\n",
    "```"
   ],
   "metadata": {
    "collapsed": false
   }
  },
  {
   "cell_type": "markdown",
   "source": [
    "# Implementing the Class"
   ],
   "metadata": {
    "collapsed": false
   }
  },
  {
   "cell_type": "code",
   "execution_count": 1,
   "outputs": [],
   "source": [
    "class Node:\n",
    "    def __init__(self, key, value):\n",
    "        \"\"\"\n",
    "        Initializes the Node class with a Name (key) and an Age (value) so that it acts like a dictionary when adding\n",
    "        nodes left or right in the Tree.\n",
    "        :param key: String, which takes a Name\n",
    "        :param value: Integer which takes an age\n",
    "        \"\"\"\n",
    "        # this variable accounts for values that are lesser than the key value\n",
    "        self.left_child = None\n",
    "        # this variable accounts for the values that are larger than the key value\n",
    "        self.right_child = None\n",
    "        self.key = key  # key of node is defined during the initialization\n",
    "        self.value = value  # value of node which is the corresponding value of the key\n",
    "        #self.combo = {self.key: self.value}  # this was the initial thought, to make a dictionary\n",
    "\n",
    "    # Insert method to create nodes\n",
    "    # this function is used to enter the remaining elements ( other than the node value) of the list,\n",
    "    def insert(self, key, value):\n",
    "        \"\"\"\n",
    "        Calling this function on the Node will insert the Name (key) as a child either left or right to the Node. The\n",
    "        sorting is dictated by the index in the alphabet, i.e. if the root Node is \"Vahe\", names with a \"lower\" rank\n",
    "        like \"Thomas\" will be inserted as a child to the left, because \"T\" is ranked lower than \"V\".\n",
    "        :param key: String, which takes a Name\n",
    "        :param value: Integer which takes an age\n",
    "        :return: returns nothing, changes child nodes\n",
    "        \"\"\"\n",
    "        if self.key:  # this section will be executed if key value of node is already defined during initialization\n",
    "            if key < self.key:  # if key value defined in the insert function is less than the key value defined\n",
    "                # during initialization, this section will be executed\n",
    "                if self.left_child is None:  # if left_child is being defined for the first time, this section will\n",
    "                    # be executed\n",
    "                    self.left_child = Node(key, value)  # left_child variable defined during initialization will be\n",
    "                    # assigned key value defined in insert function\n",
    "                # if left_child value has already been taken (i.e. it has already been defined beforehand by calling\n",
    "                # insert function), this section will be executed\n",
    "                else:\n",
    "                    # a recursive function of insert is defined, so the algorithm will run back though the insert\n",
    "                    # function and the value will be stored in the subclass of initially defined left_child value,\n",
    "                    # so as to form a binary tree\n",
    "                    self.left_child.insert(key, value)\n",
    "            elif key > self.key:  # if key value defined in the insert function is greater than the key value defined\n",
    "                # during initialization, this section will be executed\n",
    "                if self.right_child is None:  # if right_child is being defined for the first time, this section will\n",
    "                    # be executed\n",
    "                    self.right_child = Node(key, value)  # right_child variable defined during initialization will be\n",
    "                    # assigned key value defined in insert function\n",
    "                else:  # if right_child value has already been taken (i.e., it has already been defined beforehand by\n",
    "                    # calling insert function), this section will be executed\n",
    "                    self.right_child.insert(key, value)  # a recursive function of insert is defined, so the\n",
    "                    # algorithm will run back though the insert function and the value will be stored in the subclass\n",
    "                    # of initially defined left_child value, so as to form a binary tree\n",
    "        else:  # this section will be executed if key value of node has not been defined\n",
    "            # this is to define key value of node if it has not been defined during initialization\n",
    "            self.key = key\n",
    "            self.value = value\n",
    "    # basically in this algorithm we are creating binary branches about a node key, and are assigning one right and\n",
    "    # one left node key to that branch, and subsequently we are creating more binary branches to the left and right\n",
    "    # key ( for which recursion method is used ) which can be called subbranches of the main branch and so on...\n",
    "\n",
    "    # get method to compare the value with nodes\n",
    "\n",
    "    def get(self, name):\n",
    "        \"\"\"\n",
    "        The get function inside Node class returns the corresponding age of the Name passed, which is saved as a\n",
    "        value to its respective key, like a dictionary. The get function will search the BST and compare the searched\n",
    "        name to the children names, to determine if the searched name is found in the left or right child. Once it has\n",
    "        found the name, it will return its corresponding age.\n",
    "        :param name: A string\n",
    "        :return: Returns the corresponding age to the passed name, or, if the name is not found, will return\n",
    "        \"Name not found\"\n",
    "        \"\"\"\n",
    "        if name < self.key:  # if node key greater than the input string key ( from get function ), then this section\n",
    "            # will be executed, ( pls note key is string datatype, so comparison will be based on their alphabetical\n",
    "            # order )\n",
    "            if self.left_child is None:  # this line is used to present an error message, if left key of node is\n",
    "                # empty then the get key is not present in the tree\n",
    "                return str(name) + \" Not Found\"  # returns the error message that, the key we are looking for is not\n",
    "                # present in the tree\n",
    "            return self.left_child.get(name)  # a recursion function which takes left_child key as node and reruns\n",
    "            # the get function with left_child key as base\n",
    "        elif name > self.key:  # if node key less than the input string key ( from get function ), then this section\n",
    "            # will be executed, ( pls note key is string datatype, so comparison will be based on their alphabetical\n",
    "            # order )\n",
    "            if self.right_child is None:  # this line is used to present an error message, if right key of node is\n",
    "                # empty then the get key is not present in the tree\n",
    "                return str(name) + \" Not Found\"  # returns the error message that, the key we are looking for is not\n",
    "                # present in the tree\n",
    "            return self.right_child.get(name)  # a recursion function which takes left_child key as node and reruns\n",
    "            # the get function with left_child key as base\n",
    "        else:\n",
    "            return str(self.value)  # if none of the if and else if conditions stated above are true, then the node\n",
    "            # key we are comparing is the get key value we are looking for, and so the algorithm will return the\n",
    "            # corresponding value of the get key\n",
    "\n",
    "    # similarly we are searching for the corresponding value of the key by going through the branches step by step\n",
    "    # and comparing the node values with the input key\n",
    "\n",
    "\n"
   ],
   "metadata": {
    "collapsed": false
   }
  },
  {
   "cell_type": "code",
   "execution_count": 2,
   "outputs": [],
   "source": [
    "tree = Node(\"Vahe\", 55)\n",
    "tree.insert(\"Thomas\", 45)\n",
    "tree.insert(\"Zeke\", 123)\n",
    "tree.insert(\"Alexander\", 23)\n",
    "tree.insert(\"Vahy\", 66)\n",
    "tree.insert(\"Kirtesh\", 24)\n",
    "tree.insert(\"Pei\", 32)\n",
    "tree.insert(\"Carlo\", 21)\n",
    "tree.insert(\"Namir\", 26)\n",
    "# root.insert(\"Vahe\")  # is skipped as it is already implemented"
   ],
   "metadata": {
    "collapsed": false
   }
  },
  {
   "cell_type": "code",
   "execution_count": 3,
   "outputs": [
    {
     "name": "stdout",
     "output_type": "stream",
     "text": [
      "45\n",
      "55\n",
      "123\n",
      "32\n",
      "Alex Not Found\n"
     ]
    }
   ],
   "source": [
    "print(tree.get(\"Thomas\"))  # should return the corresponding value of key Thomas\n",
    "print(tree.get(\"Vahe\"))\n",
    "print(tree.get(\"Zeke\"))\n",
    "print(tree.get(\"Pei\"))\n",
    "print(tree.get(\"Alex\"))  # should return \"Alex is not found\"\n"
   ],
   "metadata": {
    "collapsed": false
   }
  },
  {
   "cell_type": "markdown",
   "source": [
    "# Think about following questions:\n",
    "\n",
    "### What is the time complexity to retrieve a value?\n",
    "\n",
    "Best Case / Average Case - $O(log(n))$ - When children are split evenly in left and right children nodes.\n",
    "\n",
    "Worst Case - $O(n)$ - Worst case is when all nodes are on one side, i.e. all nodes are in left children or right children. The algorithm would have to traverse through the whole stack of n length.\n",
    "\n",
    "### Does it matter in what order values are inserted?\n",
    "Yes, because we are defining the node value during initialization, so if we pick a middle value of the list as a node, the tree will be more efficient and organised. Therefore, the depth of the tree will also be smaller, so the algorithm can pass with fewer recursion steps. This is beneficial in terms of time complexity.\n"
   ],
   "metadata": {
    "collapsed": false
   }
  },
  {
   "cell_type": "code",
   "execution_count": 3,
   "outputs": [],
   "source": [],
   "metadata": {
    "collapsed": false
   }
  }
 ],
 "metadata": {
  "kernelspec": {
   "display_name": "Python 3",
   "language": "python",
   "name": "python3"
  },
  "language_info": {
   "codemirror_mode": {
    "name": "ipython",
    "version": 2
   },
   "file_extension": ".py",
   "mimetype": "text/x-python",
   "name": "python",
   "nbconvert_exporter": "python",
   "pygments_lexer": "ipython2",
   "version": "2.7.6"
  }
 },
 "nbformat": 4,
 "nbformat_minor": 0
}
