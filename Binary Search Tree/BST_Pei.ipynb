{
 "cells": [
  {
   "cell_type": "markdown",
   "source": [],
   "metadata": {
    "collapsed": false
   }
  },
  {
   "cell_type": "markdown",
   "source": [
    "# Binary Search Tree\n",
    "### By Starting Five: Alexander, Carlo, Kirtesh, Namir, Pei"
   ],
   "metadata": {
    "collapsed": false
   }
  },
  {
   "cell_type": "markdown",
   "source": [
    "Your group assignment is to implement a Binary Search Tree using object oriented programming. Following class outline is the minimum implementation."
   ],
   "metadata": {
    "collapsed": false
   }
  },
  {
   "cell_type": "markdown",
   "source": [
    "class Node:\n",
    "\n",
    "    def __init__(self, key, data):\n",
    "        ...\n",
    "\n",
    "    def insert(self, key, data):\n",
    "        ...\n",
    "\n",
    "    def get(self, key):\n",
    "        ...\n",
    "\n",
    "tree = Node('Vahe', 40)\n",
    "tree.insert('Thomas', 41)\n",
    "\n",
    "print(tree.get('Vahe'))"
   ],
   "metadata": {
    "collapsed": false
   }
  },
  {
   "cell_type": "markdown",
   "source": [
    "Think about following questions:\n",
    "\n",
    "1. What is the time complexity to retrieve a value?\n",
    "2. Does it matter in what order values are inserted?"
   ],
   "metadata": {
    "collapsed": false
   }
  },
  {
   "cell_type": "code",
   "execution_count": 7,
   "outputs": [],
   "source": [
    "class Node:\n",
    "    \"\"\"\n",
    "    Implement a node class, a root node connects to each child node.\n",
    "    \"\"\"\n",
    "    def __init__(self, key, value):\n",
    "        self.left_child = None #set left child of new node none, will change over time.\n",
    "        self.right_child = None #set right child of new node none, will change over time.\n",
    "        self.key = key\n",
    "        self.value = value\n",
    "        #self.combo = {self.key: self.value}\n",
    "\n",
    "    # Insert method to create nodes.\n",
    "    def insert(self, key, value):\n",
    "        if self.key: # check if key exists.\n",
    "            if key < self.key: # check if the key smaller than the node.\n",
    "                if self.left_child is None: # check if there is no left child.\n",
    "                    self.left_child = Node(key, value) # insert a new node to the left child.\n",
    "                else: # check if the left child exists.\n",
    "                    self.left_child.insert(key, value) # run insert method again on the left child.\n",
    "            elif key > self.key: # check if the key is larger than the node.\n",
    "                if self.right_child is None: # check if there is no right child.\n",
    "                    self.right_child = Node(key, value) # insert a new node to the right child.\n",
    "                else: # check if the right child exists.\n",
    "                    self.right_child.insert(key, value) # run insert method again on the right child.\n",
    "        else: # check if key does not exist.\n",
    "            self.key = key\n",
    "            self.value = value\n",
    "\n",
    "    # Get method to compare the value with nodes\n",
    "    def get(self, name):\n",
    "        if name < self.key: # check if the name is smaller than the node.\n",
    "            if self.left_child is None: # check if there is no left child.\n",
    "                return str(name) + \" Not Found\" # return: \"name\" Not Found.\n",
    "            return self.left_child.get(name) # if there is left child, run get method again on the left child.\n",
    "        elif name > self.key: # check if the name is larger than the node.\n",
    "            if self.right_child is None: # check if there is no right child.\n",
    "                return str(name) + \" Not Found\" # return: \"name\" Not Found.\n",
    "            return self.right_child.get(name) # if there is right child, run get method again on the right child.\n",
    "        else: # check if the name is equal to the node.\n",
    "            return str(self.value) # return: the value of the name."
   ],
   "metadata": {
    "collapsed": false
   }
  },
  {
   "cell_type": "markdown",
   "source": [
    "Testing Node Class"
   ],
   "metadata": {
    "collapsed": false
   }
  },
  {
   "cell_type": "code",
   "execution_count": 8,
   "outputs": [],
   "source": [
    "tree = Node(\"Vahe\", 55)"
   ],
   "metadata": {
    "collapsed": false
   }
  },
  {
   "cell_type": "markdown",
   "source": [
    "Testing Insert Method"
   ],
   "metadata": {
    "collapsed": false
   }
  },
  {
   "cell_type": "code",
   "execution_count": 9,
   "outputs": [],
   "source": [
    "# \"root.insert(\"Vahe\")\" is skipped as it is already implemented.\n",
    "tree.insert(\"Thomas\", 45)\n",
    "tree.insert(\"Zeke\", 123)\n",
    "tree.insert(\"Al\", 23)\n",
    "tree.insert(\"Vahy\", 66)"
   ],
   "metadata": {
    "collapsed": false
   }
  },
  {
   "cell_type": "markdown",
   "source": [
    "Testing Get Method"
   ],
   "metadata": {
    "collapsed": false
   }
  },
  {
   "cell_type": "code",
   "execution_count": 10,
   "outputs": [
    {
     "name": "stdout",
     "output_type": "stream",
     "text": [
      "45\n",
      "55\n",
      "123\n",
      "23\n",
      "Alex Not Found\n"
     ]
    }
   ],
   "source": [
    "print(tree.get(\"Thomas\"))\n",
    "print(tree.get(\"Vahe\"))\n",
    "print(tree.get(\"Zeke\"))\n",
    "print(tree.get(\"Al\"))\n",
    "print(tree.get(\"Alex\"))"
   ],
   "metadata": {
    "collapsed": false
   }
  },
  {
   "cell_type": "markdown",
   "source": [
    "1. What is the time complexity to retrieve a value?\n",
    "   O(log n)"
   ],
   "metadata": {
    "collapsed": false
   }
  },
  {
   "cell_type": "markdown",
   "source": [
    "2. Does it matter in what order values are inserted?\n",
    "   Yes"
   ],
   "metadata": {
    "collapsed": false
   }
  }
 ],
 "metadata": {
  "kernelspec": {
   "display_name": "Python 3",
   "language": "python",
   "name": "python3"
  },
  "language_info": {
   "codemirror_mode": {
    "name": "ipython",
    "version": 2
   },
   "file_extension": ".py",
   "mimetype": "text/x-python",
   "name": "python",
   "nbconvert_exporter": "python",
   "pygments_lexer": "ipython2",
   "version": "2.7.6"
  }
 },
 "nbformat": 4,
 "nbformat_minor": 0
}
