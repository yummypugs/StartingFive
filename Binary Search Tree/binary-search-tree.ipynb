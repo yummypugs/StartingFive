{
 "cells": [
  {
   "cell_type": "markdown",
   "source": [
    "# Binary Search Tree\n",
    "\n",
    "Your group assignment is to implement a Binary Search Tree using object oriented programming. Following class outline is the minimum implementation.\n",
    "\n",
    "```\n",
    "class Node:\n",
    "\n",
    "    def __init__(self, key, data):\n",
    "        ...\n",
    "\n",
    "    def insert(self, key, data):\n",
    "        ...\n",
    "\n",
    "    def get(self, key):\n",
    "        ...\n",
    "\n",
    "    def print(self):\n",
    "        ...\n",
    "\n",
    "tree = Node('Vahe', 40)\n",
    "tree.insert('Thomas', 41)\n",
    "\n",
    "print(tree.get('Vahe'))\n",
    "\n",
    "tree.print()\n",
    "```\n",
    "\n",
    "Think about following questions:\n",
    "* What is the time complexity to retrieve a value?\n",
    "* Does it matter in what order values are inserted?"
   ],
   "metadata": {
    "collapsed": false
   }
  },
  {
   "cell_type": "code",
   "execution_count": null,
   "outputs": [],
   "source": [],
   "metadata": {
    "collapsed": false,
    "pycharm": {
     "is_executing": true
    }
   }
  },
  {
   "cell_type": "code",
   "execution_count": null,
   "outputs": [],
   "source": [],
   "metadata": {
    "collapsed": false
   }
  }
 ],
 "metadata": {
  "kernelspec": {
   "display_name": "Python 3",
   "language": "python",
   "name": "python3"
  },
  "language_info": {
   "codemirror_mode": {
    "name": "ipython",
    "version": 2
   },
   "file_extension": ".py",
   "mimetype": "text/x-python",
   "name": "python",
   "nbconvert_exporter": "python",
   "pygments_lexer": "ipython2",
   "version": "2.7.6"
  }
 },
 "nbformat": 4,
 "nbformat_minor": 0
}
