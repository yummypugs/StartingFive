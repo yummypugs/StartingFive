{
 "cells": [
  {
   "cell_type": "code",
   "execution_count": 10,
   "outputs": [],
   "source": [
    "from time import time\n",
    "import random\n",
    "import matplotlib.pyplot as plt\n",
    "import seaborn as sns"
   ],
   "metadata": {
    "collapsed": false
   }
  },
  {
   "cell_type": "markdown",
   "source": [
    "# Merge Sort Algorithm\n",
    "### By Starting Five: Alexander, Carlo, Kirtesh, Namir, Pei\n",
    "\n",
    "Your task is to write a function that takes a list of sortable types as input and outputs a sorted list using merge sort algorithm. There are many ways to implement merge sort, but you should focus on using recursive functions.\n",
    "\n",
    "Use your function to sort different lengths of input lists, estimating the time complexity for best, worst and average cases."
   ],
   "metadata": {
    "collapsed": false
   }
  },
  {
   "cell_type": "code",
   "execution_count": 11,
   "outputs": [],
   "source": [
    "def mergesort(alist):\n",
    "    \"\"\"\n",
    "    This is an implementation of the merge sort function.\n",
    "    :param alist: An unsorted list that is being passed through the function\n",
    "    :return: Returns nothing, as the original list is being modified. No return needed and you can print out the same\n",
    "            list you entered into the function!\n",
    "    \"\"\"\n",
    "    if len(alist) > 1:  # checks if the list is already at a length of one -- meaning the recursion has reached the\n",
    "        # end, and will therefor end the recursion going down.\n",
    "        left = alist[:len(alist) // 2]  # splits the list into a left and right half, using the len // 2 function so\n",
    "        # that a \"rounded down\" integer is being used to slice the list\n",
    "        right = alist[len(alist) // 2:]\n",
    "\n",
    "        # recursion\n",
    "        mergesort(left)  # initialize recursion on the left side of the list\n",
    "        mergesort(right)  # initialize recursion on the right side of the list\n",
    "\n",
    "        # merge\n",
    "\n",
    "        left_index = 0  # initial left list index, will change over time!\n",
    "        right_index = 0  # initial right list index, will change over time!\n",
    "        sorted_index = 0  # merged list index, will change over time!\n",
    "\n",
    "        while left_index < len(left) and right_index < len(right):  # this is where the merging begins, indexes are\n",
    "            # being checked if they are in the list indexes, if they are not, this means that one list was longer as\n",
    "            # the other one and then this while gets skipped during the last iteration\n",
    "            if left[left_index] < right[right_index]:  # checks whether the first number in the left list is smaller\n",
    "                # than the first number in the right list.\n",
    "                alist[sorted_index] = left[left_index]  # original list is being updated with the new smallest value\n",
    "                # from leftmost position of the left list\n",
    "                left_index += 1  # left index is increased and sorted_index is also increased following the completion\n",
    "                # of this if-else block. The while loop will continue as long as both left_index < len(left) and\n",
    "                # right_index < len(right) are true!\n",
    "            else:\n",
    "                alist[sorted_index] = right[right_index]\n",
    "                right_index += 1\n",
    "            sorted_index += 1\n",
    "\n",
    "        while left_index < len(left):  # this and the following while block will only execute when either the left or\n",
    "            # right list is longer than the other. In this case, the last number in that list will automatically be\n",
    "            # added to the end of the original list as it will be the largest number from this list set.\n",
    "            alist[sorted_index] = left[left_index]\n",
    "            left_index += 1\n",
    "            sorted_index += 1\n",
    "\n",
    "        while right_index < len(right):\n",
    "            alist[sorted_index] = right[right_index]\n",
    "            right_index += 1\n",
    "            sorted_index += 1"
   ],
   "metadata": {
    "collapsed": false
   }
  },
  {
   "cell_type": "code",
   "execution_count": 12,
   "outputs": [
    {
     "name": "stdout",
     "output_type": "stream",
     "text": [
      "[1, 5, 6, 9, 10, 12]\n"
     ]
    }
   ],
   "source": [
    "list_ = [6, 5, 12, 10, 9, 1]\n",
    "mergesort(list_)\n",
    "print(list_)"
   ],
   "metadata": {
    "collapsed": false
   }
  },
  {
   "cell_type": "code",
   "execution_count": 13,
   "outputs": [],
   "source": [
    "sns.set_context(\"paper\")"
   ],
   "metadata": {
    "collapsed": false
   }
  },
  {
   "cell_type": "code",
   "execution_count": 14,
   "outputs": [
    {
     "data": {
      "text/plain": "<Figure size 640x480 with 1 Axes>",
      "image/png": "[encoded data removed]"
     },
     "metadata": {},
     "output_type": "display_data"
    },
    {
     "name": "stdout",
     "output_type": "stream",
     "text": [
      "1\n"
     ]
    }
   ],
   "source": [
    "# we want to creat list with different length\n",
    "#lengths_to_run = [5, 50, 500]\n",
    "#lengths_to_run = [random.randint(1, 100) for i in range(1, random.randint(6, 100))]\n",
    "lengths_to_run = [i for i in range(1, 10000, 50)]\n",
    "\n",
    "sorted_lists_results = []\n",
    "inversely_sorted_lists_results = []\n",
    "random_lists_results = []\n",
    "time_to_run = 0\n",
    "total = []\n",
    "#max_iterations = int(input(\"Enter the amount of iterations you want to do: \"))\n",
    "max_iterations = 1\n",
    "\n",
    "def run_sort(runs_per_length, list_, scenario):\n",
    "    if scenario == \"good\":\n",
    "        pass\n",
    "    elif scenario == \"base\":\n",
    "        random.shuffle(list_)\n",
    "    elif scenario == \"worse\":\n",
    "        list_ = list_[::-1]\n",
    "\n",
    "    iterations = 0\n",
    "\n",
    "    while iterations < max_iterations:\n",
    "        iterations += 1\n",
    "\n",
    "        time_begin = time()\n",
    "        mergesort(list_)\n",
    "        time_end = time()\n",
    "        total_time = time_end - time_begin\n",
    "        total.append(total_time)\n",
    "\n",
    "    total_time = sum(total) / max_iterations\n",
    "    return total_time\n",
    "\n",
    "\n",
    "def results(scenario):\n",
    "    for lengths in lengths_to_run:\n",
    "        list_to_be_sorted = list(range(1, lengths))\n",
    "        time_elapsed = run_sort(runs_per_length=5, list_=list_to_be_sorted, scenario=scenario)\n",
    "        if scenario == \"good\":\n",
    "            sorted_lists_results.append(time_elapsed)\n",
    "        elif scenario == \"base\":\n",
    "            random_lists_results.append(time_elapsed)\n",
    "        elif scenario == \"worse\":\n",
    "            inversely_sorted_lists_results.append(time_elapsed)\n",
    "\n",
    "\n",
    "results(\"good\")\n",
    "results(\"base\")\n",
    "results(\"worse\")\n",
    "\n",
    "plt.plot(lengths_to_run, random_lists_results, color=\"blue\", label=\"base\")\n",
    "plt.plot(lengths_to_run, sorted_lists_results, color=\"green\", label=\"good\")\n",
    "plt.plot(lengths_to_run, inversely_sorted_lists_results, color=\"red\", label=\"worse\")\n",
    "plt.xlabel(\"List length\")\n",
    "plt.ylabel(\"Avg. seconds per operation\")\n",
    "\n",
    "plt.legend()\n",
    "plt.show()\n",
    "print(max_iterations)"
   ],
   "metadata": {
    "collapsed": false
   }
  },
  {
   "cell_type": "code",
   "execution_count": 14,
   "outputs": [],
   "source": [],
   "metadata": {
    "collapsed": false
   }
  }
 ],
 "metadata": {
  "kernelspec": {
   "display_name": "Python 3",
   "language": "python",
   "name": "python3"
  },
  "language_info": {
   "codemirror_mode": {
    "name": "ipython",
    "version": 2
   },
   "file_extension": ".py",
   "mimetype": "text/x-python",
   "name": "python",
   "nbconvert_exporter": "python",
   "pygments_lexer": "ipython2",
   "version": "2.7.6"
  }
 },
 "nbformat": 4,
 "nbformat_minor": 0
}
