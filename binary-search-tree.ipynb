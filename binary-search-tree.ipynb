{
 "cells": [
  {
   "cell_type": "markdown",
   "source": [
    "# [Binary Search Tree](https://www.programiz.com/dsa/binary-search)"
   ],
   "metadata": {
    "collapsed": false
   }
  },
  {
   "cell_type": "code",
   "execution_count": null,
   "outputs": [],
   "source": [
    "sorted_book = [\n",
    "    {\"#\": 1, \"name\": \"A\"},\n",
    "    {\"#\": 2, \"name\": \"B\"},\n",
    "    {\"#\": 3, \"name\": \"C\"},\n",
    "    {\"#\": 4, \"name\": \"D\"},\n",
    "    {\"#\": 5, \"name\": \"E\"},\n",
    "    {\"#\": 6, \"name\": \"F\"},\n",
    "    {\"#\": 7, \"name\": \"G\"},\n",
    "    {\"#\": 8, \"name\": \"H\"}\n",
    "]\n",
    "\n",
    "def binary_search_tree(original_list, query_number):\n",
    "    length = len(original_list)\n",
    "    middle_index = length // 2\n",
    "\n",
    "    if query_number == original_list[middle_index][\"#\"]:\n",
    "        return original_list[middle_index]\n",
    "    elif query_number < original_list[middle_index][\"#\"]:\n",
    "        return binary_search_tree(original_list[:middle_index], query_number)\n",
    "    elif query_number > original_list[middle_index][\"#\"]:\n",
    "        return binary_search_tree(original_list[middle_index + 1:], query_number)\n",
    "\n",
    "\n",
    "print(binary_search_tree(sorted_book, 6))"
   ],
   "metadata": {
    "collapsed": false
   }
  }
 ],
 "metadata": {
  "kernelspec": {
   "display_name": "Python 3",
   "language": "python",
   "name": "python3"
  },
  "language_info": {
   "codemirror_mode": {
    "name": "ipython",
    "version": 2
   },
   "file_extension": ".py",
   "mimetype": "text/x-python",
   "name": "python",
   "nbconvert_exporter": "python",
   "pygments_lexer": "ipython2",
   "version": "2.7.6"
  }
 },
 "nbformat": 4,
 "nbformat_minor": 0
}
